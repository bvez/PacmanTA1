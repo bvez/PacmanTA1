{
 "cells": [
  {
   "cell_type": "markdown",
   "metadata": {},
   "source": [
    "# APLICACIONES EN CIENCIAS DE COMPUTACION"
   ]
  },
  {
   "cell_type": "markdown",
   "metadata": {},
   "source": [
    "## Laboratorio 2: Implementacion metodos de busqueda y heurísticas  para el Problema de Busqueda de Rutas en Mapas\n",
    "\n",
    "La tarea de este laboratorio consiste en implementar y comparar métodos de busqueda ciega y funciones heurísticas para A* para buscar rutas en mapas. La clase MapSearchProblem necesita ser completada (metodos actions y path_cost). Deberá implementarse 3 heurísticas para A* (h1:distancia en linea recta, h2:distancia Manhatan y 3:distancia Chebyshev). Abajo puede encontrar la definición de la clase Mapa y una instancia específica con el mapa de Romania que sera usado en las pruebas. Mapa tiene dos atributos: <b>neighbors</b> (diccionario que contiene las ciudades vecinas de cada ciudad y las distancias para llegar a ellas) y <b>location</b>, diccionario con las coordenadas X,Y de cada ciudad. \n",
    "\n",
    "Al final de este notebook debe responder algunas preguntas . \n"
   ]
  },
  {
   "cell_type": "markdown",
   "metadata": {},
   "source": [
    "<b>Mapa de Romania para realizar pruebas</b>"
   ]
  },
  {
   "cell_type": "code",
   "execution_count": 1,
   "metadata": {
    "collapsed": true
   },
   "outputs": [],
   "source": [
    "class Mapa:\n",
    "    neighbors = dict()\n",
    "    location = dict()\n",
    "    \n",
    "romania = Mapa()\n",
    "romania.neighbors = {\n",
    " 'A': [('Z',75), ('T',118), ('S',140)],\n",
    " 'B': [('F',211), ('P',101), ('G',90), ('U',85)],\n",
    " 'C': [('D',120), ('R',146), ('P',138)],\n",
    " 'D': [('M',75), ('C',120)],\n",
    " 'E': [('H',86)],\n",
    " 'F': [('S',99), ('B',211)],\n",
    " 'G': [('B',90)],\n",
    " 'H': [('U',98), ('E',86)],\n",
    " 'I': [('N',87), ('V',92)],\n",
    " 'L': [('T',111), ('M',70)],\n",
    " 'M': [('L',70), ('D',75)],\n",
    " 'N': [('I',87)],\n",
    " 'O': [('Z',71), ('S',151)],\n",
    " 'P': [('R',97), ('C',138), ('B',101)],\n",
    " 'R': [('S',80), ('C',146), ('P',97)],\n",
    " 'S': [('A',140), ('O',151), ('F',99), ('R',80)],\n",
    " 'T': [('A',118), ('L',111)],\n",
    " 'U': [('B',85), ('V',142), ('H',98)],\n",
    " 'V': [('U',142), ('I',92)],\n",
    " 'Z': [('O',71), ('A',75)]}\n",
    "romania.location = {\n",
    " 'A': (91, 492),\n",
    " 'B': (400, 327),\n",
    " 'C': (253, 288),\n",
    " 'D': (165, 299),\n",
    " 'E': (562, 293),\n",
    " 'F': (305, 449),\n",
    " 'G': (375, 270),\n",
    " 'H': (534, 350),\n",
    " 'I': (473, 506),\n",
    " 'L': (165, 379),\n",
    " 'M': (168, 339),\n",
    " 'N': (406, 537),\n",
    " 'O': (131, 571),\n",
    " 'P': (320, 368),\n",
    " 'R': (233, 410),\n",
    " 'S': (207, 457),\n",
    " 'T': (94, 410),\n",
    " 'U': (456, 350),\n",
    " 'V': (509, 444),\n",
    " 'Z': (108, 531)}"
   ]
  },
  {
   "cell_type": "markdown",
   "metadata": {},
   "source": [
    "### Clase <b>SearchProblem</b>\n",
    "\n",
    "Esta es una clase abstracta para definir problemas de busqueda. Se debe hacer subclases que implementen los metodos de las acciones, resultados, test de objetivo y el costo de camino. Entonces se puede instanciar las subclases y resolverlos con varias funciones de busqueda."
   ]
  },
  {
   "cell_type": "code",
   "execution_count": 16,
   "metadata": {
    "collapsed": true
   },
   "outputs": [],
   "source": [
    "class SearchProblem(object):\n",
    "    def __init__(self, initial, goal=None):\n",
    "        \"\"\"Este constructor especifica el estado inicial y posiblemente el estado(s) objetivo(s),\n",
    "        La subclase puede añadir mas argumentos.\"\"\"\n",
    "        self.initial = initial\n",
    "        self.goal = goal\n",
    "\n",
    "    def actions(self, state):\n",
    "        \"\"\"Retorna las acciones que pueden ser ejecutadas en el estado dado.\n",
    "        El resultado es tipicamente una lista.\"\"\"\n",
    "        raise NotImplementedError\n",
    "\n",
    "    def result(self, state, action):\n",
    "        \"\"\"Retorna el estado que resulta de ejecutar la accion dada en el estado state.\n",
    "        La accion debe ser alguna de self.actions(state).\"\"\"\n",
    "        raise NotImplementedError\n",
    "\n",
    "    def goal_test(self, state):\n",
    "        \"\"\"Retorna True si el estado pasado satisface el objetivo.\"\"\"\n",
    "        raise NotImplementedError\n",
    "\n",
    "    def path_cost(self, c, state1, action, state2):\n",
    "        \"\"\"Retorna el costo del camino de state2 viniendo de state1 con \n",
    "        la accion action, asumiendo un costo c para llegar hasta state1. \n",
    "        El metodo por defecto cuesta 1 para cada paso en el camino.\"\"\"\n",
    "        return c + 1\n",
    "\n",
    "    def value(self, state):\n",
    "        \"\"\"En problemas de optimizacion, cada estado tiene un valor. Algoritmos\n",
    "        como Hill-climbing intentan maximizar este valor.\"\"\"\n",
    "        raise NotImplementedError"
   ]
  },
  {
   "cell_type": "markdown",
   "metadata": {},
   "source": [
    "###  <b> Clase MapSearchProblem </b>  \n",
    "Esta es una subclase de SearchProblem donde se define concretamente el problema de busqueda en mapa. El constructor recibe el estado inicial, objetivo y un mapa. Se necesita completar Actions (acciones disponibles para un estado dado) y path_cost."
   ]
  },
  {
   "cell_type": "code",
   "execution_count": 33,
   "metadata": {
    "collapsed": true
   },
   "outputs": [],
   "source": [
    "class MapSearchProblem(SearchProblem):\n",
    "    def __init__(self, initial, goal, mapa):\n",
    "        \"\"\"El constructor recibe  el estado inicial, el estado objetivo y un mapa (de clase Mapa)\"\"\"\n",
    "        self.initial = initial\n",
    "        self.goal = goal\n",
    "        self.map = mapa\n",
    "\n",
    "    def actions(self, state):\n",
    "        \"\"\"Retorna las acciones ejecutables desde ciudad state.\n",
    "        El resultado es una lista de strings tipo 'goCity'. \n",
    "        Por ejemplo, en el mapa de Romania, las acciones desde Arad serian:\n",
    "         ['goZerind', 'goTimisoara', 'goSibiu']\"\"\"\n",
    "        ## TODO\n",
    "        tuplas = self.map.neighbors[state]\n",
    "        salidas = list(tuplas)\n",
    "        for i in range(0,len(tuplas)):\n",
    "            salidas[i] = 'go' + tuplas[i][0]\n",
    "        return salidas\n",
    "        \n",
    "    def result(self, state, action):\n",
    "        \"\"\"Retorna el estado que resulta de ejecutar la accion dada desde ciudad state.\n",
    "        La accion debe ser alguna de self.actions(state)\n",
    "        Por ejemplo, en el mapa de Romania, el resultado de aplicar la accion 'goZerind' \n",
    "        desde el estado 'Arad' seria 'Zerind'\"\"\"  \n",
    "        newState = action[2]\n",
    "        return newState\n",
    "        \n",
    "    def goal_test(self, state):\n",
    "        \"\"\"Retorna True si state es self.goal\"\"\"\n",
    "        return (self.goal == state) \n",
    "\n",
    "    def path_cost(self, c, state1, action, state2):\n",
    "        \"\"\"Retorna el costo del camino de state2 viniendo de state1 con la accion action \n",
    "        El costo del camino para llegar a state1 es c. El costo de la accion debe ser\n",
    "        extraido de self.map.\"\"\"\n",
    "        ## TODO\n",
    "        tuplas = self.map.neighbors[state1]\n",
    "        # se buscara el estado siguiente con el state2\n",
    "        for tupla in tuplas:\n",
    "            if(tupla[0]==state2):\n",
    "                distancia = tupla[1]\n",
    "                break\n",
    "        return c + distancia\n",
    "        "
   ]
  },
  {
   "cell_type": "markdown",
   "metadata": {},
   "source": [
    "### Clase <b>Node</b>\n",
    "\n",
    "Estructura de datos para almacenar la informacion de un nodo en un <b>arbol de busqueda</b>. Contiene información del nodo padre y el estado que representa el nodo. Tambien incluye la accion que nos llevo al presente nodo y el costo total del camino desde el nodo raiz hasta este nodo."
   ]
  },
  {
   "cell_type": "code",
   "execution_count": 18,
   "metadata": {
    "collapsed": true
   },
   "outputs": [],
   "source": [
    "class Node:\n",
    "    def __init__(self, state, parent=None, action=None, path_cost=0):\n",
    "        \"Crea un nodo de arbol de busqueda, derivado del nodo parent y accion action\"\n",
    "        self.state = state\n",
    "        self.parent = parent\n",
    "        self.action = action\n",
    "        self.path_cost = path_cost\n",
    "        self.depth = 0\n",
    "        if parent:\n",
    "            self.depth = parent.depth + 1\n",
    "\n",
    "    def expand(self, problem):\n",
    "        \"Devuelve los nodos alcanzables en un paso a partir de este nodo.\"\n",
    "        return [self.child_node(problem, action)\n",
    "                for action in problem.actions(self.state)]\n",
    "\n",
    "    def child_node(self, problem, action):\n",
    "        next = problem.result(self.state, action)\n",
    "        return Node(next, self, action,\n",
    "                    problem.path_cost(self.path_cost, self.state, action, next))\n",
    "\n",
    "    def solution(self):\n",
    "        \"Retorna la secuencia de acciones para ir de la raiz a este nodo.\"\n",
    "        return [node.action for node in self.path()[1:]]\n",
    "\n",
    "    def path(self):\n",
    "        \"Retorna una lista de nodos formando un camino de la raiz a este nodo.\"\n",
    "        node, path_back = self, []\n",
    "        while node:\n",
    "            path_back.append(node)\n",
    "            node = node.parent\n",
    "        return list(reversed(path_back))\n",
    "    \n",
    "    def __eq__(self, other): \n",
    "        \"Este metodo se ejecuta cuando se compara nodos. Devuelve True cuando los estados son iguales\"\n",
    "        return isinstance(other, Node) and self.state == other.state"
   ]
  },
  {
   "cell_type": "markdown",
   "metadata": {},
   "source": [
    "### <b> Frontera tipo cola FIFO (first-in first out) para BFS</b> "
   ]
  },
  {
   "cell_type": "code",
   "execution_count": 19,
   "metadata": {
    "collapsed": true
   },
   "outputs": [],
   "source": [
    "from collections import deque\n",
    "\n",
    "class FIFOQueue(deque):\n",
    "    \"\"\"Una cola First-In-First-Out\"\"\"\n",
    "    def pop(self):\n",
    "        return self.popleft()"
   ]
  },
  {
   "cell_type": "markdown",
   "metadata": {},
   "source": [
    "### <b> Frontera tipo cola de prioridad ordenada por una funcion de costo (para best_first_graph_search y A*)</b> "
   ]
  },
  {
   "cell_type": "code",
   "execution_count": 20,
   "metadata": {
    "collapsed": true
   },
   "outputs": [],
   "source": [
    "import heapq\n",
    "class FrontierPQ:\n",
    "    \"Una Frontera ordenada por una funcion de costo (Priority Queue)\"\n",
    "    \n",
    "    def __init__(self, initial, costfn=lambda node: node.path_cost):\n",
    "        \"Inicializa la Frontera con un nodo inicial y una funcion de costo especificada (por defecto es el costo de camino).\"\n",
    "        self.heap   = []\n",
    "        self.states = {}\n",
    "        self.costfn = costfn\n",
    "        self.add(initial)\n",
    "    \n",
    "    def add(self, node):\n",
    "        \"Agrega un nodo a la frontera.\"\n",
    "        cost = self.costfn(node)\n",
    "        heapq.heappush(self.heap, (cost, node))\n",
    "        self.states[node.state] = node\n",
    "        \n",
    "    def pop(self):\n",
    "        \"Remueve y retorna el nodo con minimo costo.\"\n",
    "        (cost, node) = heapq.heappop(self.heap)\n",
    "        self.states.pop(node.state, None) # remove state\n",
    "        return node\n",
    "    \n",
    "    def replace(self, node):\n",
    "        \"node reemplaza al nodo de la Fontera que tiene el mismo estado que node.\"\n",
    "        if node.state not in self:\n",
    "            raise ValueError('{} no tiene nada que reemplazar'.format(node.state))\n",
    "        for (i, (cost, old_node)) in enumerate(self.heap):\n",
    "            if old_node.state == node.state:\n",
    "                self.heap[i] = (self.costfn(node), node)\n",
    "                heapq._siftdown(self.heap, 0, i)\n",
    "                return\n",
    "\n",
    "    def __contains__(self, state): return state in self.states\n",
    "    \n",
    "    def __len__(self): return len(self.heap)"
   ]
  },
  {
   "cell_type": "markdown",
   "metadata": {},
   "source": [
    "### <b>Algoritmo general de búsqueda con memoria de nodos expandidos (Graph Search)</b>\n",
    "\n",
    "Algoritmo de general de busqueda ciega con memoria de estados visitados. El argumento frontier debe ser una cola vacia. Si la frontera es tipo FIFO hace busqueda en amplitud (BFS), si la frontera es una pila hará busqueda en profundidad (DFS)"
   ]
  },
  {
   "cell_type": "code",
   "execution_count": 21,
   "metadata": {
    "collapsed": true
   },
   "outputs": [],
   "source": [
    "def graph_search(problem, frontier):\n",
    "    frontier.append(Node(problem.initial))\n",
    "    explored = set()     # memoria de estados visitados\n",
    "    expanded_nodes = 0   # contador de nodos expandidos\n",
    "    while frontier:\n",
    "        node = frontier.pop()\n",
    "        if problem.goal_test(node.state):\n",
    "            return node, expanded_nodes\n",
    "        explored.add(node.state)\n",
    "        expanded_nodes = expanded_nodes + 1\n",
    "        frontier.extend(child for child in node.expand(problem)\n",
    "                        if child.state not in explored and\n",
    "                        child not in frontier)\n",
    "    return None"
   ]
  },
  {
   "cell_type": "markdown",
   "metadata": {},
   "source": [
    "### <b> Algoritmo Best-First-Graph-Search </b> \n",
    "Algoritmo general de busqueda con información. La frontera es una cola de prioridad ordenada por la funcion de evaluacion f "
   ]
  },
  {
   "cell_type": "code",
   "execution_count": 22,
   "metadata": {
    "collapsed": true
   },
   "outputs": [],
   "source": [
    "def best_first_graph_search(problem, f):\n",
    "    \"\"\"Busca el objetivo expandiendo el nodo de la frontera con el menor valor de la funcion f. Memoriza estados visitados\n",
    "    Antes de llamar a este algoritmo hay que especificar La funcion f(node). Si f es node.depth tenemos Busqueda en Amplitud; \n",
    "    si f es node.path_cost tenemos Busqueda  de Costo Uniforme. Si f es una heurística tenemos Busqueda Voraz;\n",
    "    Si f es node.path_cost + heuristica(node) tenemos A* \"\"\"\n",
    "\n",
    "    frontier = FrontierPQ( Node(problem.initial), f )  # frontera tipo cola de prioridad ordenada por f\n",
    "    explored = set()     # memoria de estados visitados\n",
    "    expanded_nodes = 0   # contador de nodos expandidos\n",
    "    while frontier:\n",
    "        node = frontier.pop()\n",
    "        if problem.goal_test(node.state):\n",
    "            return node, expanded_nodes\n",
    "        explored.add(node.state)\n",
    "        expanded_nodes = expanded_nodes + 1\n",
    "        for action in problem.actions(node.state):\n",
    "            child = node.child_node(problem, action)\n",
    "            if child.state not in explored and child.state not in frontier:\n",
    "                frontier.add(child)\n",
    "            elif child.state in frontier:\n",
    "                incumbent = frontier.states[child.state] \n",
    "                if f(child) < f(incumbent):\n",
    "                    frontier.replace(child)"
   ]
  },
  {
   "cell_type": "markdown",
   "metadata": {},
   "source": [
    "### <b> Algoritmo A* </b> \n",
    "A* es un caso especial de best_first_graph_search con f = path_cost + heuristic"
   ]
  },
  {
   "cell_type": "code",
   "execution_count": 23,
   "metadata": {
    "collapsed": true
   },
   "outputs": [],
   "source": [
    "def astar_search(problem, heuristic):\n",
    "    f = lambda node: node.path_cost + heuristic(node, problem)\n",
    "    return best_first_graph_search(problem, f)\n",
    "\n",
    "def nullheuristic(node, problem):   # heurística nula (A* se convierte en busqueda de costo uniforme)\n",
    "    return 0"
   ]
  },
  {
   "cell_type": "markdown",
   "metadata": {},
   "source": [
    "### <b> Heurísticas para A* </b> \n",
    "Se debe implementar las heurísticas abajo para A* "
   ]
  },
  {
   "cell_type": "code",
   "execution_count": 48,
   "metadata": {
    "collapsed": true
   },
   "outputs": [],
   "source": [
    "import math\n",
    "\n",
    "def distance(estadoInicial,solution,problem):\n",
    "        \"Retorna la distancia desde la raiz a este nodo\"\n",
    "        estado = estadoInicial\n",
    "        estadoSig = ''\n",
    "        recorrido = 0\n",
    "        distancias = problem.map.neighbors\n",
    "        for accion in solution:\n",
    "            estadoSig = accion[2]\n",
    "            opciones = distancias[estado]\n",
    "            for i in opciones:\n",
    "                if i[0] == estadoSig:\n",
    "                    recorrido = recorrido + i[1]\n",
    "                    break\n",
    "            estado = estadoSig\n",
    "        return recorrido\n",
    "            \n",
    "def h1(node, problem):\n",
    "    \"Distancia en linea recta desde la posicion de node hasta la posicion del Objetivo (problem.goal)\"\n",
    "    ## TODO\n",
    "    \n",
    "    coord1 = problem.map.location[node.state]\n",
    "    coord2 = problem.map.location[problem.goal]\n",
    "    dx = coord2[0]-coord1[0]\n",
    "    dy = coord2[1]-coord1[1]\n",
    "    return math.sqrt(pow(dx,2) + pow(dy,2))\n",
    "\n",
    "def h2(node, problem):\n",
    "    \"Distancia Manhatan (o city block) desde la posicion de node hasta la posicion del Objetivo (problem.goal)\"\n",
    "    ## TODO\n",
    "    coord1 = problem.map.location[node.state]\n",
    "    coord2 = problem.map.location[problem.goal]\n",
    "    dx = coord2[0]-coord1[0]\n",
    "    dy = coord2[1]-coord1[1]\n",
    "    return abs(dx) + abs(dy)\n",
    "\n",
    "def h3(node, problem):\n",
    "    \"Distancia Chebyshev (el mayor de los catetos) desde la posicion de node hasta la posicion del Objetivo (problem.goal)\"\n",
    "    ## TODO\n",
    "    coord1 = problem.map.location[node.state]\n",
    "    coord2 = problem.map.location[problem.goal]\n",
    "    dx = coord2[0]-coord1[0]\n",
    "    dy = coord2[1]-coord1[1]\n",
    "    return max(abs(dx),abs(dy))\n"
   ]
  },
  {
   "cell_type": "markdown",
   "metadata": {},
   "source": [
    "### <b> Probando los algoritmos de Busqueda</b> \n"
   ]
  },
  {
   "cell_type": "code",
   "execution_count": 54,
   "metadata": {
    "collapsed": true
   },
   "outputs": [
    {
     "name": "stdout",
     "output_type": "stream",
     "text": [
      "Solucion obtenida con BFS: ['goS', 'goF', 'goB']. Nodos expandidos = 9. Costo de la solucion = 450\n",
      "Solucion obtenida con DFS: ['goS', 'goR', 'goP', 'goB']. Nodos expandidos = 4. Costo de la solucion = 418\n",
      "Solucion obtenida con A* y heuristica nula (UCS): ['goS', 'goR', 'goP', 'goB']. Nodos expandidos = 12. Costo de la solucion = 418\n",
      "Solucion obtenida con A* y heuristica h1: ['goS', 'goR', 'goP', 'goB']. Nodos expandidos = 5. Costo de la solucion = 418\n",
      "Solucion obtenida con A* y heuristica h2: ['goS', 'goF', 'goB']. Nodos expandidos = 3. Costo de la solucion = 450\n",
      "Solucion obtenida con A* y heuristica h3: ['goS', 'goR', 'goP', 'goB']. Nodos expandidos = 7. Costo de la solucion = 418\n"
     ]
    }
   ],
   "source": [
    "estadoInicial = 'A'\n",
    "estadoFinal = 'B'\n",
    "p = MapSearchProblem(estadoInicial, estadoFinal, romania)   # problema de busqueda de ruta de Arad a Bucharest\n",
    "\n",
    "node, num_exp_nodes = graph_search(p, FIFOQueue())\n",
    "print( 'Solucion obtenida con BFS: {}. Nodos expandidos = {}. Costo de la solucion = {}'.format(node.solution(), num_exp_nodes,distance(estadoInicial,node.solution(),p)) )\n",
    "\n",
    "node, num_exp_nodes = graph_search(p, [])\n",
    "print( 'Solucion obtenida con DFS: {}. Nodos expandidos = {}. Costo de la solucion = {}'.format(node.solution(), num_exp_nodes,distance(estadoInicial,node.solution(),p)) )\n",
    "\n",
    "node, num_exp_nodes = astar_search(p,nullheuristic)\n",
    "print( 'Solucion obtenida con A* y heuristica nula (UCS): {}. Nodos expandidos = {}. Costo de la solucion = {}'.format(node.solution(), num_exp_nodes,distance(estadoInicial,node.solution(),p)) )\n",
    "\n",
    "node, num_exp_nodes = astar_search(p, h1)\n",
    "print( 'Solucion obtenida con A* y heuristica h1: {}. Nodos expandidos = {}. Costo de la solucion = {}'.format(node.solution(), num_exp_nodes,distance(estadoInicial,node.solution(),p)) )\n",
    "\n",
    "node, num_exp_nodes = astar_search(p, h2)\n",
    "print( 'Solucion obtenida con A* y heuristica h2: {}. Nodos expandidos = {}. Costo de la solucion = {}'.format(node.solution(), num_exp_nodes,distance(estadoInicial,node.solution(),p)) )\n",
    "\n",
    "node, num_exp_nodes = astar_search(p, h3)\n",
    "print( 'Solucion obtenida con A* y heuristica h3: {}. Nodos expandidos = {}. Costo de la solucion = {}'.format(node.solution(), num_exp_nodes,distance(estadoInicial,node.solution(),p)) )\n"
   ]
  },
  {
   "cell_type": "markdown",
   "metadata": {},
   "source": [
    "## Preguntas\n",
    "\n",
    "<b>1) Probar BFS, DFS, A* con heuristicas: nula, h1, h2, y h3 en los siguientes problemas (registre los nodos expandidos y los costos de las soluciones): </b>\n",
    "       - p = MapSearchProblem('A', 'B', romania)\n",
    "        Solucion obtenida con BFS: ['goS', 'goF', 'goB']. Nodos expandidos = 9. Costo de la solucion = 450\n",
    "        Solucion obtenida con DFS: ['goS', 'goR', 'goP', 'goB']. Nodos expandidos = 4. Costo de la solucion = 418\n",
    "        Solucion obtenida con A* y heuristica nula (UCS): ['goS', 'goR', 'goP', 'goB']. Nodos expandidos = 12. Costo de la solucion = 418\n",
    "        Solucion obtenida con A* y heuristica h1: ['goS', 'goR', 'goP', 'goB']. Nodos expandidos = 5. Costo de la solucion = 418\n",
    "        Solucion obtenida con A* y heuristica h2: ['goS', 'goF', 'goB']. Nodos expandidos = 3. Costo de la solucion = 450\n",
    "        Solucion obtenida con A* y heuristica h3: ['goS', 'goR', 'goP', 'goB']. Nodos expandidos = 7. Costo de la solucion = 418\n",
    "\n",
    "       - p = MapSearchProblem('E', 'O', romania)\n",
    "        Solucion obtenida con BFS: ['goH', 'goU', 'goB', 'goF', 'goS', 'goO']. Nodos expandidos = 14. Costo de la solucion = 730\n",
    "        Solucion obtenida con DFS: ['goH', 'goU', 'goB', 'goP', 'goC', 'goD', 'goM', 'goL', 'goT', 'goA', 'goS', 'goO']. Nodos expandidos = 16. Costo de la solucion = 1293\n",
    "        Solucion obtenida con A* y heuristica nula (UCS): ['goH', 'goU', 'goB', 'goP', 'goR', 'goS', 'goO']. Nodos expandidos = 15. Costo de la solucion = 698\n",
    "        Solucion obtenida con A* y heuristica h1: ['goH', 'goU', 'goB', 'goP', 'goR', 'goS', 'goO']. Nodos expandidos = 8. Costo de la solucion = 698\n",
    "        Solucion obtenida con A* y heuristica h2: ['goH', 'goU', 'goB', 'goP', 'goR', 'goS', 'goO']. Nodos expandidos = 7. Costo de la solucion = 698\n",
    "        Solucion obtenida con A* y heuristica h3: ['goH', 'goU', 'goB', 'goP', 'goR', 'goS', 'goO']. Nodos expandidos = 9. Costo de la solucion = 698\n",
    "        \n",
    "       - p = MapSearchProblem('U', 'O', romania)\n",
    "        Solucion obtenida con BFS: ['goB', 'goF', 'goS', 'goO']. Nodos expandidos = 14. Costo de la solucion = 546\n",
    "        Solucion obtenida con DFS: ['goB', 'goP', 'goC', 'goD', 'goM', 'goL', 'goT', 'goA', 'goS', 'goO']. Nodos expandidos = 16. Costo de la solucion = 1109\n",
    "        Solucion obtenida con A* y heuristica nula (UCS): ['goB', 'goP', 'goR', 'goS', 'goO']. Nodos expandidos = 15. Costo de la solucion = 514\n",
    "        Solucion obtenida con A* y heuristica h1: ['goB', 'goP', 'goR', 'goS', 'goO']. Nodos expandidos = 6. Costo de la solucion = 514\n",
    "        Solucion obtenida con A* y heuristica h2: ['goB', 'goP', 'goR', 'goS', 'goO']. Nodos expandidos = 5. Costo de la solucion = 514\n",
    "        Solucion obtenida con A* y heuristica h3: ['goB', 'goP', 'goR', 'goS', 'goO']. Nodos expandidos = 8. Costo de la solucion = 514\n",
    "  \n",
    "<b>2) Compare los algoritmos de busqueda ciega (BFS, DFS y UCS) en cuanto a sus costos temporales y optimalidad </b>\n",
    "      Se observa que en los tres casos, si bien la tendencia no es notoria, es UCS el que toma o la mayor cantidad de nodos expandidos o una cantidad muy cercana al máximo.\n",
    "      En cuanto a BFS y DFS depende mucho de la configuración del mapa para ver su comportamiento. Curiosamente, las cantidades de nodos expandidos en las rutas 'E'-'O' y 'U'-'O' son las mismas, lo que podría hacer sospechar una especie de simetría en estas rutas.\n",
    "      En los tres casos UCS encuentra el resultado óptimo. Por otro lado, tanto el uso de BFS como el uso de DFS no nos garantizan optimalidad.\n",
    "\n",
    "<b>3) Todas las heurísticas encuentran la solución optima? Por Que? </b>\n",
    "      No, porque solo optimizan su forma de ver el recorrido. Para las diferentes heurísticas hay resultados distintos, se enfocan en su forma de solucionarlo. Esto se pudo observar en la ruta 'A'-'B' donde usando la heurística 2 con A* no se encontró la solución óptima\n",
    "<b>4) Cual heurística expande menos nodos? Por Que? </b>\n",
    "      A* y heuristica h2."
   ]
  },
  {
   "cell_type": "code",
   "execution_count": null,
   "metadata": {
    "collapsed": true
   },
   "outputs": [],
   "source": []
  }
 ],
 "metadata": {
  "kernelspec": {
   "display_name": "Python 3",
   "language": "python",
   "name": "python3"
  },
  "language_info": {
   "codemirror_mode": {
    "name": "ipython",
    "version": 3
   },
   "file_extension": ".py",
   "mimetype": "text/x-python",
   "name": "python",
   "nbconvert_exporter": "python",
   "pygments_lexer": "ipython3",
   "version": "3.6.2"
  }
 },
 "nbformat": 4,
 "nbformat_minor": 2
}
